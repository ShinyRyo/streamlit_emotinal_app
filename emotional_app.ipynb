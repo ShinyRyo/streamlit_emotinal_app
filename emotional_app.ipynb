{
  "nbformat": 4,
  "nbformat_minor": 0,
  "metadata": {
    "colab": {
      "name": "emotional_app.ipynb",
      "provenance": [],
      "authorship_tag": "ABX9TyONza9BLrp37SrEdRk03Bp2",
      "include_colab_link": true
    },
    "kernelspec": {
      "name": "python3",
      "display_name": "Python 3"
    },
    "language_info": {
      "name": "python"
    }
  },
  "cells": [
    {
      "cell_type": "markdown",
      "metadata": {
        "id": "view-in-github",
        "colab_type": "text"
      },
      "source": [
        "<a href=\"https://colab.research.google.com/github/ShinyRyo/streamlit_emotinal_app/blob/main/emotional_app.ipynb\" target=\"_parent\"><img src=\"https://colab.research.google.com/assets/colab-badge.svg\" alt=\"Open In Colab\"/></a>"
      ]
    },
    {
      "cell_type": "code",
      "execution_count": null,
      "metadata": {
        "id": "qg3l3G9SU3n2"
      },
      "outputs": [],
      "source": [
        ""
      ]
    }
  ]
}