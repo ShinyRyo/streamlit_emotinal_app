{
  "nbformat": 4,
  "nbformat_minor": 0,
  "metadata": {
    "colab": {
      "name": "camera_app.ipynb",
      "provenance": [],
      "collapsed_sections": [],
      "authorship_tag": "ABX9TyOh+vcMkTmnqkxufhSfiP7j",
      "include_colab_link": true
    },
    "kernelspec": {
      "name": "python3",
      "display_name": "Python 3"
    },
    "language_info": {
      "name": "python"
    }
  },
  "cells": [
    {
      "cell_type": "markdown",
      "metadata": {
        "id": "view-in-github",
        "colab_type": "text"
      },
      "source": [
        "<a href=\"https://colab.research.google.com/github/ShinyRyo/streamlit_emotinal_app/blob/main/camera_app.ipynb\" target=\"_parent\"><img src=\"https://colab.research.google.com/assets/colab-badge.svg\" alt=\"Open In Colab\"/></a>"
      ]
    },
    {
      "cell_type": "code",
      "execution_count": 3,
      "metadata": {
        "id": "qg3l3G9SU3n2",
        "colab": {
          "base_uri": "https://localhost:8080/"
        },
        "outputId": "0af9bccb-01d9-4b4f-cbfb-f6705baefbe0"
      },
      "outputs": [
        {
          "output_type": "stream",
          "name": "stdout",
          "text": [
            "Overwriting app.py\n"
          ]
        }
      ],
      "source": [
        "%%writefile app.py\n",
        "# 以下を「app.py」に書き込み\n",
        "import streamlit as st\n",
        "import matplotlib.pyplot as plt\n",
        "from PIL import Image\n",
        "#from model import predict\n",
        "\n",
        "st.set_option(\"deprecation.showfileUploaderEncoding\", False)\n",
        "\n",
        "st.sidebar.title(\"画像認識アプリ\")\n",
        "st.sidebar.write(\"オリジナルの画像認識モデルを使って何の画像かを判定します。\")\n",
        "\n",
        "st.sidebar.write(\"\")\n",
        "\n",
        "img_source = st.sidebar.radio(\"画像のソースを選択してください。\",\n",
        "                              (\"画像をアップロード\", \"カメラで撮影\"))\n",
        "if img_source == \"画像をアップロード\":\n",
        "    img_file = st.sidebar.file_uploader(\"画像を選択してください。\", type=[\"png\", \"jpg\"])\n",
        "elif img_source == \"カメラで撮影\":\n",
        "    img_file = st.camera_input(\"カメラで撮影\")\n",
        "\n",
        "# if img_file is not None:\n",
        "#     with st.spinner(\"推定中...\"):\n",
        "#         img = Image.open(img_file)\n",
        "#         st.image(img, caption=\"対象の画像\", width=480)\n",
        "#         st.write(\"\")\n",
        "\n",
        "#         # 予測\n",
        "#         results = predict(img)\n",
        "\n",
        "#         # 結果の表示\n",
        "#         st.subheader(\"判定結果\")\n",
        "#         n_top = 3  # 確率が高い順に3位まで返す\n",
        "#         for result in results[:n_top]:\n",
        "#             st.write(str(round(result[2]*100, 2)) + \"%の確率で\" + result[0] + \"です。\")\n",
        "\n",
        "#         # 円グラフの表示\n",
        "#         pie_labels = [result[1] for result in results[:n_top]]\n",
        "#         pie_labels.append(\"others\")\n",
        "#         pie_probs = [result[2] for result in results[:n_top]]\n",
        "#         pie_probs.append(sum([result[2] for result in results[n_top:]]))\n",
        "#         fig, ax = plt.subplots()\n",
        "#         wedgeprops={\"width\":0.3, \"edgecolor\":\"white\"}\n",
        "#         textprops = {\"fontsize\":6}\n",
        "#         ax.pie(pie_probs, labels=pie_labels, counterclock=False, startangle=90,\n",
        "#                textprops=textprops, autopct=\"%.2f\", wedgeprops=wedgeprops)  # 円グラフ\n",
        "#         st.pyplot(fig)"
      ]
    },
    {
      "cell_type": "code",
      "source": [
        "with open(\"requirements.txt\", \"w\") as w:\n",
        "    w.write(\"streamlit==1.8.1\\n\")  # Streamlit Cloud上で動作が確認できたバージョン\n",
        "    w.write(\"torch==1.10.0\\n\")  # Cuda対応は要らないのでcu111は記述しない\n",
        "    w.write(\"torchvision==0.11.1\\n\")  # Cuda対応は要らないのでcu111は記述しない\n",
        "    w.write(\"Pillow==7.1.2\\n\")\n",
        "    w.write(\"matplotlib==3.2.2\\n\")"
      ],
      "metadata": {
        "id": "cs4JCMZ9bOQk"
      },
      "execution_count": 2,
      "outputs": []
    },
    {
      "cell_type": "code",
      "source": [
        ""
      ],
      "metadata": {
        "id": "8krMe9OabPIc"
      },
      "execution_count": null,
      "outputs": []
    }
  ]
}